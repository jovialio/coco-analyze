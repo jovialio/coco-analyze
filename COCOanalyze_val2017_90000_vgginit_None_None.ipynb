{
 "cells": [
  {
   "cell_type": "code",
   "execution_count": null,
   "metadata": {},
   "outputs": [],
   "source": [
    "## general imports\n",
    "import json\n",
    "import numpy as np\n",
    "import sys\n",
    "\n",
    "## COCO imports\n",
    "from pycocotools.coco import COCO\n",
    "from pycocotools.cocoeval import COCOeval\n",
    "from pycocotools.cocoanalyze import COCOanalyze\n",
    "\n",
    "## plotting imports\n",
    "%matplotlib inline\n",
    "import matplotlib.pyplot as plt\n",
    "import skimage.io as io"
   ]
  },
  {
   "cell_type": "code",
   "execution_count": null,
   "metadata": {},
   "outputs": [],
   "source": [
    "## set paths\n",
    "#dataDir  = '.'\n",
    "#dataType = 'val2014'\n",
    "#annType  = 'person_keypoints'\n",
    "#teamName = 'fakekeypoints100'\n",
    "\n",
    "#annFile  = '%s/annotations/%s_%s.json'%(dataDir, annType, dataType)\n",
    "#resFile  = '%s/detections/%s_%s_%s_results.json'%(dataDir, teamName, annType, dataType)\n",
    "annFile  = '../../data/mscoco2017/annotations/person_keypoints_val2017.json'\n",
    "resFile  = 'vis_val2017_90000_vgginit_None_None/json_detection.json'\n",
    "print(\"{:10}[{}]\".format('annFile:',annFile))\n",
    "print(\"{:10}[{}]\".format('resFile:',resFile))\n",
    "\n",
    "# with open(annFile) as f:\n",
    "#     gt_data = json.load(f)\n",
    "\n",
    "# imgs_info = {i['id']:{'id':i['id'] ,\n",
    "#                       'width':i['width'],\n",
    "#                       'height':i['height']}\n",
    "#                        for i in gt_data['images']}"
   ]
  },
  {
   "cell_type": "code",
   "execution_count": null,
   "metadata": {
    "scrolled": false
   },
   "outputs": [],
   "source": [
    "# with open(resFile) as f:\n",
    "#     team_dts = json.load(f)\n",
    "\n",
    "# team_dts = [d for d in team_dts if d['image_id'] in imgs_info]\n",
    "\n",
    "# team_img_ids = set([d['image_id'] for d in team_dts])\n",
    "# print(\"Loaded [{}] instances in [{}] images.\".format(len(team_dts),len(imgs_info)))\n",
    "\n",
    "## load ground truth annotations\n",
    "coco_gt = COCO(annFile)\n",
    "catIds = coco_gt.getCatIds(catNms=['person'])\n",
    "keys = coco_gt.getImgIds(catIds=catIds)\n",
    "print('Person images: ', len(keys))\n",
    "\n",
    "## initialize COCO detections api\n",
    "coco_dt   = coco_gt.loadRes(resFile)\n",
    "\n",
    "## initialize COCO eval api\n",
    "cocoEval = COCOeval(coco_gt, coco_dt, 'keypoints')\n",
    "cocoEval.params.imgIds = keys\n",
    "cocoEval.evaluate()\n",
    "cocoEval.accumulate()\n",
    "cocoEval.summarize()\n",
    "# if teamName == 'fakekeypoints100':\n",
    "#     imgIds  = sorted(coco_gt.getImgIds())[0:100]\n",
    "#     coco_analyze.cocoEval.params.imgIds = imgIds"
   ]
  },
  {
   "cell_type": "code",
   "execution_count": null,
   "metadata": {
    "scrolled": false
   },
   "outputs": [],
   "source": [
    "# use evaluate() method for standard coco evaluation\n",
    "# input arguments:\n",
    "#  - verbose   : verbose outputs    (default: False)\n",
    "#  - makeplots : plots eval results (default: False)\n",
    "#  - savedir   : path to savedir    (default: None)\n",
    "#  - team_name : team name string   (default: None)\n",
    "\n",
    "## initialize COCO analyze api\n",
    "coco_analyze = COCOanalyze(coco_gt, coco_dt, 'keypoints')\n",
    "coco_analyze.evaluate(verbose=True, makeplots=True)"
   ]
  },
  {
   "cell_type": "code",
   "execution_count": null,
   "metadata": {},
   "outputs": [],
   "source": [
    "## NOTE: the values below are all default\n",
    "\n",
    "# set OKS threshold of the extended error analysis\n",
    "coco_analyze.params.oksThrs       = [.5,.55,.6,.65,.7,.75,.8,.85,.9,.95]\n",
    "\n",
    "# set OKS threshold required to match a detection to a ground truth\n",
    "coco_analyze.params.oksLocThrs    = .1\n",
    "\n",
    "# set KS threshold limits defining jitter errors\n",
    "coco_analyze.params.jitterKsThrs = [.5,.85]\n",
    "\n",
    "# set the localization errors to analyze and in what order\n",
    "# note: different order will show different progressive improvement\n",
    "# to study impact of single error type, study in isolation\n",
    "coco_analyze.params.err_types = ['miss','swap','inversion','jitter']\n",
    "\n",
    "# area ranges for evaluation\n",
    "# 'all' range is union of medium and large\n",
    "coco_analyze.params.areaRng       = [[32 ** 2, 1e5 ** 2]] #[96 ** 2, 1e5 ** 2],[32 ** 2, 96 ** 2]\n",
    "coco_analyze.params.areaRngLbl    = ['all'] # 'large','medium' \n",
    "\n",
    "coco_analyze.params.maxDets = [20]"
   ]
  },
  {
   "cell_type": "code",
   "execution_count": null,
   "metadata": {
    "scrolled": false
   },
   "outputs": [],
   "source": [
    "# use analyze() method for advanced error analysis \n",
    "# input arguments:\n",
    "#  - check_kpts   : analyze keypoint localization errors for detections with a match (default: True)\n",
    "#                 : default errors types are ['jitter','inversion','swap','miss']\n",
    "#  - check_scores : analyze optimal score (maximizing oks over all matches) for every detection (default: True)\n",
    "#  - check_bkgd   : analyze background false positives and false negatives (default: True)\n",
    "\n",
    "coco_analyze.analyze(check_kpts=True, check_scores=True, check_bckgd=True)"
   ]
  },
  {
   "cell_type": "code",
   "execution_count": null,
   "metadata": {
    "scrolled": false
   },
   "outputs": [],
   "source": [
    "# use summarize() method to get the results after progressive correction of errors\n",
    "# input arguments:\n",
    "#  - makeplots : plots eval results (default: False)\n",
    "#  - savedir   : path to savedir    (default: None)\n",
    "#  - team_name : team name string   (default: None)\n",
    "\n",
    "coco_analyze.summarize(makeplots=True)"
   ]
  },
  {
   "cell_type": "code",
   "execution_count": null,
   "metadata": {
    "scrolled": false
   },
   "outputs": [],
   "source": [
    "## print the performance summary \n",
    "for stat in coco_analyze.stats: print(stat)"
   ]
  },
  {
   "cell_type": "code",
   "execution_count": null,
   "metadata": {},
   "outputs": [],
   "source": [
    "## after analyze() has been called the following variables are available\n",
    "\n",
    "# list of the corrected detections\n",
    "corrected_dts = coco_analyze.corrected_dts['all']\n",
    "\n",
    "i = 17\n",
    "# info on keypoint detection localization error\n",
    "print('good: %s'%corrected_dts[i]['good'])\n",
    "print('miss: %s'%corrected_dts[i]['miss'])\n",
    "print('swap: %s'%corrected_dts[i]['swap'])\n",
    "print('inv.: %s'%corrected_dts[i]['inversion'])\n",
    "print('jit.: %s\\n'%corrected_dts[i]['jitter'])\n",
    "\n",
    "# corrected keypoint locations\n",
    "print('predicted keypoints:\\n %s'%corrected_dts[i]['keypoints'])\n",
    "print('corrected keypoints:\\n %s\\n'%corrected_dts[i]['opt_keypoints'])\n",
    "\n",
    "# optimal detection score\n",
    "print('original score: %s'%corrected_dts[i]['score'])\n",
    "print('optimal score:  %s\\n'%corrected_dts[i]['opt_score'])"
   ]
  },
  {
   "cell_type": "code",
   "execution_count": null,
   "metadata": {},
   "outputs": [],
   "source": [
    "## after summarize() has been called the following variables are available\n",
    "\n",
    "# list of the false positive detections and missed ground-truth annotations\n",
    "false_pos_dts = coco_analyze.false_pos_dts\n",
    "false_neg_gts = coco_analyze.false_neg_gts\n",
    "for oks in coco_analyze.params.oksThrs:\n",
    "    print(\"Oks:[%.2f] - Num.FP:[%d] - Num.FN:[%d]\"%(oks,len(false_pos_dts['all',str(oks)]),len(false_neg_gts['all',str(oks)])))"
   ]
  },
  {
   "cell_type": "code",
   "execution_count": null,
   "metadata": {},
   "outputs": [],
   "source": []
  }
 ],
 "metadata": {
  "kernelspec": {
   "display_name": "Python 3",
   "language": "python",
   "name": "python3"
  },
  "language_info": {
   "codemirror_mode": {
    "name": "ipython",
    "version": 3
   },
   "file_extension": ".py",
   "mimetype": "text/x-python",
   "name": "python",
   "nbconvert_exporter": "python",
   "pygments_lexer": "ipython3",
   "version": "3.5.2"
  }
 },
 "nbformat": 4,
 "nbformat_minor": 1
}
